{
 "cells": [
  {
   "cell_type": "code",
   "execution_count": 74,
   "id": "c4488092",
   "metadata": {},
   "outputs": [],
   "source": [
    "from bs4 import BeautifulSoup\n",
    "import requests\n",
    "import json\n",
    "import shutil"
   ]
  },
  {
   "cell_type": "code",
   "execution_count": 82,
   "id": "282e974c",
   "metadata": {},
   "outputs": [],
   "source": [
    "# api-endpoint\n",
    "\n",
    "URL = r\"https://rule34.xxx/index.php?page=dapi&s=post&q=index\"\n",
    "   \n",
    "# limit: per request limit 1000 items so per page 1000 items can be fetched\n",
    "# tags: anything used to search on the website can be put in here\n",
    "# pid:page number starts from 0 and goes to totalimages / 1000 + 1\n",
    "# json: put 1 to get json response\n",
    "# defining a params dict for the parameters to be sent to the API\n",
    "\n",
    "PARAMS = {\"limit\":1000,\"tags\":\"darkalx\",\"pid\":1,\"json\":1}\n",
    "  \n",
    "# sending get request and saving the response as response object\n",
    "\n",
    "response = requests.get(url = URL, params = PARAMS)"
   ]
  },
  {
   "cell_type": "code",
   "execution_count": 84,
   "id": "f779bea0",
   "metadata": {},
   "outputs": [
    {
     "name": "stdout",
     "output_type": "stream",
     "text": [
      "244\n"
     ]
    }
   ],
   "source": [
    "data = response.json()\n",
    "# json_object = json.dumps(data)\n",
    "print(len(data))"
   ]
  },
  {
   "cell_type": "code",
   "execution_count": 77,
   "id": "cc9315ae",
   "metadata": {},
   "outputs": [],
   "source": [
    "# json_file = open(\"data.json\",\"w\")\n",
    "# json_file.writelines(json_object)\n",
    "# json_file.close()\n",
    "def image_download(image_url,i):\n",
    "    url = image_url\n",
    "    response = requests.get(url)\n",
    "    if response.status_code == 200:\n",
    "        with open(r\"C:\\Users\\bm921\\Desktop\\Projects\\images\\image_\"+ str(i) +\".jpg\", 'wb') as f:\n",
    "            f.write(response.content)"
   ]
  },
  {
   "cell_type": "code",
   "execution_count": 79,
   "id": "2c5f6bc1",
   "metadata": {},
   "outputs": [],
   "source": [
    "for i in range(0,len(data) + 1):\n",
    "    image_url = str(data[i][\"file_url\"])\n",
    "    image_download(image_url,i)"
   ]
  },
  {
   "cell_type": "code",
   "execution_count": 81,
   "id": "195f11da",
   "metadata": {},
   "outputs": [
    {
     "name": "stdout",
     "output_type": "stream",
     "text": [
      "1000\n"
     ]
    }
   ],
   "source": []
  },
  {
   "cell_type": "code",
   "execution_count": null,
   "id": "5ff4bc6c",
   "metadata": {},
   "outputs": [],
   "source": []
  },
  {
   "cell_type": "code",
   "execution_count": 69,
   "id": "bcd11d4a",
   "metadata": {},
   "outputs": [],
   "source": []
  },
  {
   "cell_type": "code",
   "execution_count": null,
   "id": "777c64e4",
   "metadata": {},
   "outputs": [],
   "source": []
  }
 ],
 "metadata": {
  "kernelspec": {
   "display_name": "Python 3",
   "language": "python",
   "name": "python3"
  },
  "language_info": {
   "codemirror_mode": {
    "name": "ipython",
    "version": 3
   },
   "file_extension": ".py",
   "mimetype": "text/x-python",
   "name": "python",
   "nbconvert_exporter": "python",
   "pygments_lexer": "ipython3",
   "version": "3.8.8"
  }
 },
 "nbformat": 4,
 "nbformat_minor": 5
}
